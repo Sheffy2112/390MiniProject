{
  "nbformat": 4,
  "nbformat_minor": 0,
  "metadata": {
    "colab": {
      "name": "textautocomplete.ipynb",
      "provenance": [],
      "include_colab_link": true
    },
    "kernelspec": {
      "name": "python3",
      "display_name": "Python 3"
    }
  },
  "cells": [
    {
      "cell_type": "markdown",
      "metadata": {
        "id": "view-in-github",
        "colab_type": "text"
      },
      "source": [
        "<a href=\"https://colab.research.google.com/github/Sheffy2112/Sheffy2112.github.io/blob/master/textautocomplete.ipynb\" target=\"_parent\"><img src=\"https://colab.research.google.com/assets/colab-badge.svg\" alt=\"Open In Colab\"/></a>"
      ]
    },
    {
      "cell_type": "code",
      "metadata": {
        "id": "I9l8JuKhbwaS"
      },
      "source": [
        "import numpy as np\r\n",
        "from nltk.tokenize import RegexpTokenizer\r\n",
        "from keras.models import Sequential, load_model\r\n",
        "from keras.layers import LSTM\r\n",
        "from keras.layers.core import Dense, Activation\r\n",
        "from keras.optimizers import RMSprop\r\n",
        "import matplotlib.pyplot as plt\r\n",
        "import pickle\r\n",
        "import heapq"
      ],
      "execution_count": null,
      "outputs": []
    },
    {
      "cell_type": "code",
      "metadata": {
        "colab": {
          "base_uri": "https://localhost:8080/"
        },
        "id": "vpNow1WEcRCH",
        "outputId": "1cc4005f-53b8-4284-d2d1-ae7e8ccb8370"
      },
      "source": [
        "\r\n",
        "path=\"./sample_data/1661-0.txt\"\r\n",
        "text = open(path).read().lower()\r\n",
        "print('corpus length:', len(text))"
      ],
      "execution_count": null,
      "outputs": [
        {
          "output_type": "stream",
          "text": [
            "corpus length: 581889\n"
          ],
          "name": "stdout"
        }
      ]
    },
    {
      "cell_type": "code",
      "metadata": {
        "id": "6uVqgox5eJn2"
      },
      "source": [
        "tokenizer = RegexpTokenizer(r'\\w+')\r\n",
        "words = tokenizer.tokenize(text)\r\n",
        "\r\n",
        "unique_words = np.unique(words)\r\n",
        "unique_word_index = dict((c, i) for i, c in enumerate(unique_words))\r\n",
        "\r\n",
        "WORD_LENGTH = 5\r\n",
        "prev_words = []\r\n",
        "next_words = []\r\n",
        "for i in range(len(words) - WORD_LENGTH):\r\n",
        "    prev_words.append(words[i:i + WORD_LENGTH])\r\n",
        "    next_words.append(words[i + WORD_LENGTH])\r\n",
        "\r\n"
      ],
      "execution_count": null,
      "outputs": []
    },
    {
      "cell_type": "code",
      "metadata": {
        "colab": {
          "base_uri": "https://localhost:8080/"
        },
        "id": "Quf4c7QsezoO",
        "outputId": "e608ef67-41b4-44a7-99a0-90cff6f63353"
      },
      "source": [
        "X = np.zeros((len(prev_words), WORD_LENGTH, len(unique_words)), dtype=bool)\r\n",
        "Y = np.zeros((len(next_words), len(unique_words)), dtype=bool)\r\n",
        "for i, each_words in enumerate(prev_words):\r\n",
        "    for j, each_word in enumerate(each_words):\r\n",
        "        X[i, j, unique_word_index[each_word]] = 1\r\n",
        "    Y[i, unique_word_index[next_words[i]]] = 1\r\n",
        "\r\n",
        "print(X[0][0])"
      ],
      "execution_count": null,
      "outputs": [
        {
          "output_type": "stream",
          "text": [
            "[False False False ... False False False]\n"
          ],
          "name": "stdout"
        }
      ]
    },
    {
      "cell_type": "code",
      "metadata": {
        "colab": {
          "base_uri": "https://localhost:8080/"
        },
        "id": "3gd6fg9Fe--B",
        "outputId": "8c452f96-4567-4b7e-eb32-ac640764461b"
      },
      "source": [
        "model = Sequential()\r\n",
        "model.add(LSTM(128, input_shape=(WORD_LENGTH, len(unique_words))))\r\n",
        "model.add(Dense(len(unique_words)))\r\n",
        "model.add(Activation('softmax'))\r\n",
        "\r\n",
        "optimizer = RMSprop(lr=0.01)\r\n",
        "model.compile(loss='categorical_crossentropy', optimizer=optimizer, metrics=['accuracy'])\r\n",
        "history = model.fit(X, Y, validation_split=0.05, batch_size=128, epochs=2, shuffle=True).history\r\n",
        "\r\n",
        "model.save('keras_next_word_model.h5')\r\n",
        "pickle.dump(history, open(\"history.p\", \"wb\"))\r\n",
        "model = load_model('keras_next_word_model.h5')\r\n",
        "history = pickle.load(open(\"history.p\", \"rb\"))"
      ],
      "execution_count": null,
      "outputs": [
        {
          "output_type": "stream",
          "text": [
            "Epoch 1/2\n",
            "811/811 [==============================] - 268s 327ms/step - loss: 6.3730 - accuracy: 0.0836 - val_loss: 7.0983 - val_accuracy: 0.1025\n",
            "Epoch 2/2\n",
            "811/811 [==============================] - 261s 321ms/step - loss: 5.6410 - accuracy: 0.1460 - val_loss: 7.9351 - val_accuracy: 0.1080\n"
          ],
          "name": "stdout"
        }
      ]
    },
    {
      "cell_type": "code",
      "metadata": {
        "id": "A5r62ph2h4cl"
      },
      "source": [
        "model.save('keras_next_word_model.h5')\r\n",
        "pickle.dump(history, open(\"history.p\", \"wb\"))\r\n",
        "model = load_model('keras_next_word_model.h5')\r\n",
        "history = pickle.load(open(\"history.p\", \"rb\"))"
      ],
      "execution_count": null,
      "outputs": []
    },
    {
      "cell_type": "code",
      "metadata": {
        "colab": {
          "base_uri": "https://localhost:8080/"
        },
        "id": "nFZ24CQYh9-V",
        "outputId": "681881ea-3e56-4815-8330-51ef34405210"
      },
      "source": [
        "def prepare_input(text):\r\n",
        "    x = np.zeros((1, WORD_LENGTH, len(unique_words)))\r\n",
        "    for t, word in enumerate(text.split()):\r\n",
        "        print(word)\r\n",
        "        x[0, t, unique_word_index[word]] = 1\r\n",
        "    return x\r\n",
        "prepare_input(\"It is not a lack\".lower())\r\n",
        "\r\n",
        "def sample(preds, top_n=3):\r\n",
        "    preds = np.asarray(preds).astype('float64')\r\n",
        "    preds = np.log(preds)\r\n",
        "    exp_preds = np.exp(preds)\r\n",
        "    preds = exp_preds / np.sum(exp_preds)\r\n",
        "\r\n",
        "    return heapq.nlargest(top_n, range(len(preds)), preds.take)\r\n",
        "\r\n",
        "def predict_completions(text, n=3):\r\n",
        "    if text == \"\":\r\n",
        "        return(\"0\")\r\n",
        "    x = prepare_input(text)\r\n",
        "    preds = model.predict(x, verbose=0)[0]\r\n",
        "    next_indices = sample(preds, n)\r\n",
        "    return [unique_words[idx] for idx in next_indices]\r\n",
        "\r\n",
        "q =  \"Your life will never be the same again\"\r\n",
        "print(\"correct sentence: \",q)\r\n",
        "seq = \" \".join(tokenizer.tokenize(q.lower())[0:5])\r\n",
        "print(\"Sequence: \",seq)\r\n",
        "print(\"next possible words: \", predict_completions(seq, 5))"
      ],
      "execution_count": null,
      "outputs": [
        {
          "output_type": "stream",
          "text": [
            "it\n",
            "is\n",
            "not\n",
            "a\n",
            "lack\n",
            "correct sentence:  Your life will never be the same again\n",
            "Sequence:  your life will never be\n",
            "your\n",
            "life\n",
            "will\n",
            "never\n",
            "be\n",
            "next possible words:  ['a', 'that', 'as', 'the', 'to']\n"
          ],
          "name": "stdout"
        }
      ]
    }
  ]
}